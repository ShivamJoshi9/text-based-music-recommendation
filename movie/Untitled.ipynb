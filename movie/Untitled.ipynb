{
 "cells": [
  {
   "cell_type": "code",
   "execution_count": 1,
   "id": "c5ead627-1e24-40ef-bdf9-f90eb31c22e0",
   "metadata": {},
   "outputs": [],
   "source": [
    "import pandas as pd\n",
    "import numpy as np"
   ]
  },
  {
   "cell_type": "code",
   "execution_count": 2,
   "id": "2fc0405e-0083-42d8-bf9b-df0a44bb926b",
   "metadata": {},
   "outputs": [],
   "source": [
    "df = pd.read_csv(\"music_database.csv\")"
   ]
  },
  {
   "cell_type": "code",
   "execution_count": 3,
   "id": "514bd54c-2fcb-4050-a067-7265a5cb5299",
   "metadata": {},
   "outputs": [
    {
     "data": {
      "text/html": [
       "<div>\n",
       "<style scoped>\n",
       "    .dataframe tbody tr th:only-of-type {\n",
       "        vertical-align: middle;\n",
       "    }\n",
       "\n",
       "    .dataframe tbody tr th {\n",
       "        vertical-align: top;\n",
       "    }\n",
       "\n",
       "    .dataframe thead th {\n",
       "        text-align: right;\n",
       "    }\n",
       "</style>\n",
       "<table border=\"1\" class=\"dataframe\">\n",
       "  <thead>\n",
       "    <tr style=\"text-align: right;\">\n",
       "      <th></th>\n",
       "      <th>music_id</th>\n",
       "      <th>emotion</th>\n",
       "      <th>music</th>\n",
       "    </tr>\n",
       "  </thead>\n",
       "  <tbody>\n",
       "    <tr>\n",
       "      <th>0</th>\n",
       "      <td>1</td>\n",
       "      <td>anger</td>\n",
       "      <td>jee krda</td>\n",
       "    </tr>\n",
       "    <tr>\n",
       "      <th>1</th>\n",
       "      <td>1</td>\n",
       "      <td>anger</td>\n",
       "      <td>yalgaar</td>\n",
       "    </tr>\n",
       "    <tr>\n",
       "      <th>2</th>\n",
       "      <td>1</td>\n",
       "      <td>anger</td>\n",
       "      <td>mera intkam dekhegi</td>\n",
       "    </tr>\n",
       "    <tr>\n",
       "      <th>3</th>\n",
       "      <td>1</td>\n",
       "      <td>anger</td>\n",
       "      <td>shivaay</td>\n",
       "    </tr>\n",
       "    <tr>\n",
       "      <th>4</th>\n",
       "      <td>1</td>\n",
       "      <td>anger</td>\n",
       "      <td>sadda haq</td>\n",
       "    </tr>\n",
       "  </tbody>\n",
       "</table>\n",
       "</div>"
      ],
      "text/plain": [
       "   music_id emotion                music\n",
       "0         1   anger             jee krda\n",
       "1         1   anger              yalgaar\n",
       "2         1   anger  mera intkam dekhegi\n",
       "3         1   anger              shivaay\n",
       "4         1   anger            sadda haq"
      ]
     },
     "execution_count": 3,
     "metadata": {},
     "output_type": "execute_result"
    }
   ],
   "source": [
    "df.head()"
   ]
  },
  {
   "cell_type": "code",
   "execution_count": 4,
   "id": "1bf275ae-341a-4f1c-a876-32ef7c018a9b",
   "metadata": {},
   "outputs": [
    {
     "data": {
      "text/plain": [
       "anger       10\n",
       "disgust     10\n",
       "fear        10\n",
       "happy       10\n",
       "joy         10\n",
       "neutral     10\n",
       "sad         10\n",
       "sadness     10\n",
       "shame       10\n",
       "surprise    10\n",
       "Name: emotion, dtype: int64"
      ]
     },
     "execution_count": 4,
     "metadata": {},
     "output_type": "execute_result"
    }
   ],
   "source": [
    "df['emotion'].value_counts()"
   ]
  },
  {
   "cell_type": "code",
   "execution_count": 5,
   "id": "8d8e3936-8344-476f-b6f6-f203ac49fc24",
   "metadata": {},
   "outputs": [],
   "source": [
    "nd = df.to_numpy()"
   ]
  },
  {
   "cell_type": "code",
   "execution_count": 6,
   "id": "1c5c0a81-5245-4b53-abbe-443c0ee4ae15",
   "metadata": {},
   "outputs": [
    {
     "name": "stdout",
     "output_type": "stream",
     "text": [
      "[[1 'anger' 'jee krda']\n",
      " [1 'anger' 'yalgaar']\n",
      " [1 'anger' 'mera intkam dekhegi']\n",
      " [1 'anger' 'shivaay']\n",
      " [1 'anger' 'sadda haq']\n",
      " [1 'anger' 'abcdefu']\n",
      " [1 'anger' 'enemy']\n",
      " [1 'anger' 'in the end']\n",
      " [1 'anger' 'dark horse']\n",
      " [1 'anger' 'love the way you lie']\n",
      " [2 'disgust' 'pareshaan']\n",
      " [2 'disgust' 'dushman na kare dost ne vo kaam kiya hai']\n",
      " [2 'disgust' 'ye duniya ye mehfil']\n",
      " [2 'disgust' 'rihayii']\n",
      " [2 'disgust' 'jadugarr']\n",
      " [2 'disgust' 'no broken hearts']\n",
      " [2 'disgust' 'bad habits']\n",
      " [2 'disgust' 'without me']\n",
      " [2 'disgust' 'good for you']\n",
      " [2 'disgust' 'everybody hurts']\n",
      " [3 'fear' 'hasi']\n",
      " [3 'fear' 'lag ja gale']\n",
      " [3 'fear' 'ek din aap']\n",
      " [3 'fear' 'choo lo']\n",
      " [3 'fear' 'aisa kyu maa']\n",
      " [3 'fear' 'I wont give up on us']\n",
      " [3 'fear' 'somebody I used to know']\n",
      " [3 'fear' 'arcade']\n",
      " [3 'fear' 'night changes']\n",
      " [3 'fear' 'summertime sadness']\n",
      " [4 'happy' 'namo namo']\n",
      " [4 'happy' 'ram siya ram']\n",
      " [4 'happy' 'india wale ']\n",
      " [4 'happy' 'baazigar']\n",
      " [4 'happy' 'rider']\n",
      " [4 'happy' 'perfect']\n",
      " [4 'happy' 'counting stars']\n",
      " [4 'happy' 'baby']\n",
      " [4 'happy' 'dance monkey']\n",
      " [4 'happy' 'love story']\n",
      " [5 'joy' 'kabhi kabhi aditi']\n",
      " [5 'joy' 'love you zindagi']\n",
      " [5 'joy' 'give me some sunshine']\n",
      " [5 'joy' 'blues eyes']\n",
      " [5 'joy' 'qaafirana']\n",
      " [5 'joy' 'as it was']\n",
      " [5 'joy' 'rockabye']\n",
      " [5 'joy' 'shape of you']\n",
      " [5 'joy' 'sugar']\n",
      " [5 'joy' 'more than this']\n",
      " [6 'neutral' 'manike']\n",
      " [6 'neutral' 'haawa haawa']\n",
      " [6 'neutral' 'tere naina']\n",
      " [6 'neutral' 'insane']\n",
      " [6 'neutral' 'ma bella']\n",
      " [6 'neutral' 'mocking bird']\n",
      " [6 'neutral' 'mood']\n",
      " [6 'neutral' 'wellerman']\n",
      " [6 'neutral' 'I aint worried']\n",
      " [6 'neutral' 'maps']\n",
      " [7 'sad' 'ae dil hai muskil']\n",
      " [7 'sad' 'hossanna']\n",
      " [7 'sad' 'phir bhi tumko chahunga']\n",
      " [7 'sad' 'ek lambha']\n",
      " [7 'sad' 'channa mereya']\n",
      " [7 'sad' 'let me down slowly']\n",
      " [7 'sad' 'lovely']\n",
      " [7 'sad' 'play date']\n",
      " [7 'sad' 'someone you loved']\n",
      " [7 'sad' 'another love']\n",
      " [8 'sadness' 'aaj bhi']\n",
      " [8 'sadness' 'heer ranjha']\n",
      " [8 'sadness' 'jaan ban gaye']\n",
      " [8 'sadness' 'main rahoon ya na rahoon']\n",
      " [8 'sadness' 'kahi too']\n",
      " [8 'sadness' 'love me like you do']\n",
      " [8 'sadness' 'little do you know']\n",
      " [8 'sadness' 'dancing with your ghost']\n",
      " [8 'sadness' 'glimpse of us']\n",
      " [8 'sadness' 'untill I found you']\n",
      " [9 'shame' 'besharmi ki height']\n",
      " [9 'shame' 'sooraj dooba hai']\n",
      " [9 'shame' 'raat bhar']\n",
      " [9 'shame' 'hookah bar']\n",
      " [9 'shame' 'nashe si chadh gayi']\n",
      " [9 'shame' 'shake it off']\n",
      " [9 'shame' 'shame']\n",
      " [9 'shame' 'often']\n",
      " [9 'shame' 'one kiss']\n",
      " [9 'shame' 'need to know']\n",
      " [10 'surprise' 'tum jo aaye']\n",
      " [10 'surprise' 'kun faya kun']\n",
      " [10 'surprise' 'maan meri jaan']\n",
      " [10 'surprise' 'happy bday']\n",
      " [10 'surprise' 'ye tune kya kiya']\n",
      " [10 'surprise' 'hymn for the weekend']\n",
      " [10 'surprise' 'just the way you are']\n",
      " [10 'surprise' 'what if I told you that I love you']\n",
      " [10 'surprise' 'ten feet tall']\n",
      " [10 'surprise' 'senorita']]\n"
     ]
    }
   ],
   "source": [
    "print(nd)"
   ]
  },
  {
   "cell_type": "code",
   "execution_count": 42,
   "id": "7f598858-0f5e-44e1-8746-4297558f0b81",
   "metadata": {},
   "outputs": [
    {
     "name": "stdout",
     "output_type": "stream",
     "text": [
      "ae dil hai muskil\n",
      "hossanna\n",
      "phir bhi tumko chahunga\n",
      "ek lambha\n",
      "channa mereya\n",
      "let me down slowly\n",
      "lovely\n",
      "play date\n",
      "someone you loved\n",
      "another love\n"
     ]
    }
   ],
   "source": [
    "item = 7;\n",
    "item = item *10;\n",
    "item = item -10;\n",
    "for i in range(0,10):\n",
    "    i = i + item;\n",
    "    print(nd[i,2])"
   ]
  },
  {
   "cell_type": "code",
   "execution_count": 43,
   "id": "85cade29-71e6-4766-9904-29a869f554dd",
   "metadata": {},
   "outputs": [],
   "source": [
    "import pickle"
   ]
  },
  {
   "cell_type": "code",
   "execution_count": 45,
   "id": "434e9435-d9f3-4e4b-b4ef-04870233d33a",
   "metadata": {},
   "outputs": [],
   "source": [
    "pickle.dump(df.to_dict(),open('music.pkl','wb'))"
   ]
  }
 ],
 "metadata": {
  "kernelspec": {
   "display_name": "Python 3 (ipykernel)",
   "language": "python",
   "name": "python3"
  },
  "language_info": {
   "codemirror_mode": {
    "name": "ipython",
    "version": 3
   },
   "file_extension": ".py",
   "mimetype": "text/x-python",
   "name": "python",
   "nbconvert_exporter": "python",
   "pygments_lexer": "ipython3",
   "version": "3.9.13"
  }
 },
 "nbformat": 4,
 "nbformat_minor": 5
}
